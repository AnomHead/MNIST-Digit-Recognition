{
 "cells": [
  {
   "cell_type": "code",
   "execution_count": null,
   "id": "04208183-27d9-448f-8b4c-8a10a51a6c3a",
   "metadata": {},
   "outputs": [],
   "source": [
    "pip install tensorflow"
   ]
  },
  {
   "cell_type": "code",
   "execution_count": null,
   "id": "ab1c3368-ffb1-4649-b731-1be54a368b0d",
   "metadata": {},
   "outputs": [],
   "source": [
    "import numpy as np\n",
    "#pandas for data analysis\n",
    "import pandas as pd\n",
    "#matplotlib for plotting lines and functions\n",
    "import matplotlib.pyplot as plt\n",
    "#tensorflow for neural networks\n",
    "import tensorflow as tf\n",
    "from tensorflow.keras.models import Sequential\n",
    "from tensorflow.keras.layers import Dense\n",
    "from sklearn.model_selection import train_test_split"
   ]
  },
  {
   "cell_type": "code",
   "execution_count": null,
   "id": "53d28160-30f3-4bca-9f64-aa164e8d1a1f",
   "metadata": {},
   "outputs": [],
   "source": [
    "#so first we have to analyse the data to identify suspicous characters in the columns , \n",
    "#it is better to do so even if the dataset is clean to capture flaws\n",
    "data = pd.read_csv('mnist.csv')\n",
    "df = pd.DataFrame(data)\n"
   ]
  },
  {
   "cell_type": "code",
   "execution_count": null,
   "id": "3454615c-e1c7-4e9b-838d-fc4c8cfaf3e8",
   "metadata": {},
   "outputs": [],
   "source": [
    "for col in df.select_dtypes(include=['object']).columns:\n",
    "    df[col] = df[col].str.strip().replace('?', np.nan) #replaces non numerical strings like 'None' with numerical NaN\n",
    "    "
   ]
  },
  {
   "cell_type": "code",
   "execution_count": null,
   "id": "9a93c7bb-f0e2-4118-bd82-b9e3e7612a02",
   "metadata": {},
   "outputs": [],
   "source": [
    "for i in df.columns:\n",
    "    df[i] = pd.to_numeric(df[i], errors='coerce')\n",
    "    df[i] = df[i].fillna(df[i].median())"
   ]
  },
  {
   "cell_type": "code",
   "execution_count": null,
   "id": "9e628132-9e68-4548-8bad-dda2aa3d912c",
   "metadata": {},
   "outputs": [],
   "source": [
    "#now we split into output and inputs\n",
    "y = df['label']\n",
    "print(y.shape)\n",
    "x = df.drop(['label'],axis = 1)\n",
    "print(x.shape)\n",
    "#first we seperate training data, then the testing data\n",
    "x_train,x_second,y_train,y_second = train_test_split(x,y,test_size=0.4,random_state = 67)"
   ]
  },
  {
   "cell_type": "code",
   "execution_count": null,
   "id": "a794ab1c-6f18-4233-90fd-61f26ed2f6ee",
   "metadata": {},
   "outputs": [],
   "source": [
    "#now we split into cross_validation and testing sets\n",
    "x_crossval,x_test,y_crossval,y_test = train_test_split(x_second,y_second,test_size = 0.5,random_state = 67)"
   ]
  },
  {
   "cell_type": "code",
   "execution_count": null,
   "id": "52beedb1-8c88-4b98-ad1d-c2843d210dd5",
   "metadata": {},
   "outputs": [],
   "source": [
    "'''now to create the neural network, first we have to know how much layers to keep in our network. We can tell that\n",
    "we would need a decent amount of layers , atleast 4-5 since we have over 784 columns (excluding output), hence we \n",
    "will have to identify a lot of intricate patterns which the hidden layers can perform'''"
   ]
  },
  {
   "cell_type": "code",
   "execution_count": null,
   "id": "ead6e745-a9ff-4da8-9b21-07bebabb0914",
   "metadata": {},
   "outputs": [],
   "source": [
    "print(df.columns)"
   ]
  },
  {
   "cell_type": "code",
   "execution_count": null,
   "id": "7b8e3d7e-a6b8-494c-b597-9fc2ac63bd65",
   "metadata": {},
   "outputs": [],
   "source": [
    "tf.random.set_seed(1234)\n",
    "model = Sequential(\n",
    "                    [Dense(units = 10,activation = 'relu',name = 'layer1'),\n",
    "                    Dense(units = 5,activation = 'relu',name = 'layer2'),\n",
    "                    Dense(units = 3,activation = 'relu',name = 'layer3'),\n",
    "                    Dense(10,activation = 'softmax',name = 'output')\n",
    "                   ])"
   ]
  },
  {
   "cell_type": "code",
   "execution_count": null,
   "id": "b649d1f2-4e66-4034-8c6f-93baccaa1d04",
   "metadata": {},
   "outputs": [],
   "source": [
    "'''we now will convert the pandas dataframe to numpy matrices for easier computation in tensorflow'''"
   ]
  },
  {
   "cell_type": "code",
   "execution_count": null,
   "id": "5e1d368f-dec1-4e8b-9d83-49f65af575dd",
   "metadata": {},
   "outputs": [],
   "source": [
    "print(x_train.shape)\n",
    "print(y_train.shape)\n",
    "X_train = x_train.values\n",
    "X_train = X_train.astype('float32') / 255.0\n",
    "Y_train = y_train.values\n",
    "X_crossval = x_crossval.values\n",
    "X_crossval = X_crossval.astype('float32') / 255.0\n",
    "Y_crossval = y_crossval.values\n",
    "X_test = x_test.values\n",
    "X_test = X_test.astype('float32') / 255.0\n",
    "Y_test = y_test.values\n",
    "print(X_train.shape)\n",
    "print(Y_train.shape)"
   ]
  },
  {
   "cell_type": "code",
   "execution_count": null,
   "id": "959e90df-9db1-4945-a1ec-6b8ad447e8de",
   "metadata": {},
   "outputs": [],
   "source": [
    "model.compile(loss = tf.keras.losses.SparseCategoricalCrossentropy(from_logits=False),optimizer = tf.keras.optimizers.Adam(learning_rate = 0.001))\n",
    "model.fit(X_train,Y_train,epochs = 50)"
   ]
  },
  {
   "cell_type": "code",
   "execution_count": 73,
   "id": "2c1d5383-de43-44c0-9e34-e2f5989b3ce6",
   "metadata": {},
   "outputs": [
    {
     "name": "stdout",
     "output_type": "stream",
     "text": [
      "\u001b[1m63/63\u001b[0m \u001b[32m━━━━━━━━━━━━━━━━━━━━\u001b[0m\u001b[37m\u001b[0m \u001b[1m0s\u001b[0m 480us/step\n",
      "[4, 9, 2, 7, 2, 1, 6, 3, 0, 5, 1, 0, 5, 6, 5, 7, 6, 7, 5, 1, 1, 0, 6, 0, 9, 8, 5, 1, 6, 9, 4, 9, 2, 9, 1, 7, 3, 9, 4, 6, 3, 9, 7, 1, 6, 6, 3, 3, 6, 3, 2, 1, 9, 0, 7, 5, 6, 3, 8, 5, 0, 6, 3, 3, 4, 5, 2, 1, 3, 1, 8, 6, 1, 2, 8, 4, 3, 1, 6, 0, 7, 0, 4, 9, 7, 3, 5, 3, 0, 7, 9, 8, 2, 0, 1, 7, 8, 9, 3, 5, 7, 9, 6, 6, 9, 3, 2, 2, 5, 7, 0, 0, 3, 0, 6, 9, 3, 8, 5, 8, 4, 4, 4, 1, 6, 6, 7, 9, 0, 0, 7, 6, 4, 8, 6, 7, 5, 5, 8, 3, 3, 3, 9, 8, 0, 7, 5, 4, 0, 4, 6, 1, 4, 9, 2, 5, 6, 9, 8, 8, 9, 4, 6, 8, 1, 1, 8, 9, 1, 9, 9, 7, 6, 3, 6, 0, 9, 4, 1, 4, 1, 6, 0, 7, 1, 1, 5, 2, 6, 7, 0, 6, 7, 3, 7, 8, 2, 5, 1, 4, 4, 2, 1, 0, 2, 3, 3, 6, 3, 2, 6, 0, 2, 2, 6, 8, 5, 1, 2, 5, 7, 7, 6, 7, 9, 7, 9, 4, 7, 4, 8, 4, 9, 3, 8, 3, 1, 8, 6, 6, 2, 2, 4, 6, 3, 3, 3, 1, 4, 1, 6, 8, 4, 7, 6, 8, 7, 4, 3, 0, 7, 3, 5, 7, 9, 0, 3, 4, 0, 9, 8, 9, 5, 3, 2, 7, 3, 4, 3, 1, 7, 0, 2, 8, 9, 8, 5, 3, 3, 4, 3, 0, 2, 1, 7, 7, 1, 7, 0, 1, 9, 9, 0, 2, 1, 0, 8, 5, 3, 4, 8, 4, 9, 5, 5, 0, 8, 4, 8, 1, 2, 3, 1, 3, 5, 5, 9, 7, 0, 1, 2, 7, 5, 7, 0, 2, 9, 9, 0, 1, 7, 9, 0, 0, 3, 4, 9, 6, 3, 2, 8, 0, 4, 6, 2, 0, 8, 1, 6, 4, 9, 3, 4, 0, 3, 4, 2, 7, 5, 1, 4, 7, 0, 9, 0, 1, 1, 6, 3, 5, 2, 7, 1, 1, 4, 9, 6, 8, 2, 9, 3, 1, 9, 7, 7, 3, 7, 6, 3, 1, 0, 7, 8, 1, 0, 1, 1, 0, 4, 3, 5, 3, 1, 0, 5, 8, 8, 6, 0, 6, 8, 1, 4, 2, 3, 9, 7, 7, 1, 4, 3, 8, 3, 1, 4, 9, 8, 5, 9, 2, 1, 8, 4, 2, 3, 4, 3, 3, 8, 4, 0, 9, 0, 3, 2, 4, 7, 2, 7, 8, 2, 8, 6, 4, 3, 7, 8, 2, 1, 3, 5, 1, 8, 1, 7, 6, 0, 5, 1, 5, 7, 1, 9, 6, 9, 1, 7, 5, 1, 1, 7, 9, 6, 2, 4, 9, 7, 2, 3, 1, 9, 2, 1, 0, 2, 2, 1, 9, 8, 4, 5, 5, 7, 9, 7, 1, 0, 3, 8, 6, 0, 0, 9, 5, 7, 5, 9, 0, 6, 4, 4, 9, 8, 4, 5, 8, 4, 3, 5, 5, 5, 9, 1, 7, 7, 1, 6, 9, 0, 4, 1, 5, 0, 1, 2, 0, 0, 3, 8, 6, 1, 0, 8, 5, 6, 7, 8, 8, 9, 9, 0, 3, 2, 5, 7, 2, 3, 4, 5, 3, 9, 9, 1, 1, 2, 5, 6, 4, 3, 7, 7, 4, 0, 7, 6, 5, 3, 7, 3, 4, 3, 6, 6, 6, 5, 5, 5, 4, 9, 5, 7, 1, 1, 0, 2, 0, 4, 2, 3, 2, 2, 7, 2, 4, 8, 2, 4, 2, 9, 4, 7, 3, 5, 9, 5, 0, 2, 7, 7, 7, 9, 3, 0, 0, 6, 9, 4, 7, 8, 4, 0, 7, 1, 8, 3, 3, 1, 0, 3, 0, 7, 0, 1, 1, 0, 8, 4, 9, 7, 5, 3, 0, 4, 1, 8, 9, 9, 6, 9, 6, 3, 2, 0, 9, 9, 1, 4, 6, 1, 3, 4, 8, 3, 9, 6, 4, 0, 3, 8, 8, 0, 3, 0, 5, 2, 8, 2, 9, 5, 0, 3, 2, 5, 3, 3, 6, 4, 1, 7, 1, 2, 2, 3, 6, 5, 7, 5, 8, 0, 9, 4, 6, 4, 8, 2, 3, 7, 1, 5, 5, 3, 2, 2, 6, 6, 7, 2, 5, 7, 6, 9, 7, 6, 3, 9, 6, 0, 6, 7, 7, 2, 9, 0, 4, 3, 4, 2, 0, 6, 9, 4, 5, 0, 1, 6, 5, 6, 0, 1, 2, 1, 9, 4, 1, 0, 7, 3, 3, 9, 6, 2, 6, 3, 7, 4, 6, 2, 2, 0, 8, 4, 3, 6, 0, 3, 9, 3, 7, 7, 0, 8, 7, 3, 1, 9, 7, 9, 2, 0, 9, 7, 0, 4, 3, 6, 8, 3, 8, 7, 7, 5, 0, 2, 1, 2, 5, 2, 3, 6, 5, 5, 0, 7, 4, 3, 3, 8, 9, 9, 1, 7, 7, 5, 0, 5, 1, 9, 3, 7, 8, 3, 3, 6, 2, 9, 3, 8, 7, 5, 4, 4, 0, 3, 1, 2, 6, 6, 6, 5, 4, 3, 7, 0, 6, 6, 0, 5, 6, 4, 5, 7, 4, 3, 1, 9, 6, 7, 5, 7, 8, 7, 2, 4, 9, 2, 5, 1, 7, 1, 1, 2, 2, 7, 0, 3, 1, 5, 1, 2, 0, 5, 5, 2, 8, 4, 2, 4, 7, 4, 5, 2, 0, 7, 4, 8, 6, 4, 6, 1, 5, 7, 5, 1, 4, 5, 1, 6, 5, 5, 7, 7, 4, 0, 7, 4, 4, 3, 9, 0, 0, 7, 1, 3, 7, 5, 6, 9, 2, 1, 2, 1, 3, 6, 9, 4, 3, 8, 5, 6, 9, 7, 9, 5, 1, 3, 7, 4, 6, 2, 8, 0, 0, 7, 9, 7, 3, 9, 8, 0, 7, 3, 4, 7, 7, 2, 4, 2, 6, 3, 9, 9, 7, 4, 3, 2, 3, 8, 5, 3, 9, 7, 6, 2, 0, 0, 1, 5, 8, 1, 8, 2, 6, 1, 4, 8, 8, 6, 6, 6, 8, 7, 2, 4, 7, 3, 4, 6, 2, 4, 8, 3, 1, 0, 2, 0, 2, 3, 4, 3, 6, 7, 0, 7, 2, 0, 1, 3, 4, 1, 3, 1, 6, 5, 6, 4, 1, 9, 8, 9, 0, 3, 6, 5, 4, 9, 2, 2, 3, 7, 8, 4, 0, 0, 3, 3, 8, 5, 2, 7, 9, 2, 3, 1, 9, 0, 3, 8, 3, 5, 2, 2, 5, 9, 8, 8, 7, 1, 5, 6, 7, 9, 3, 6, 4, 0, 6, 1, 1, 0, 2, 1, 9, 5, 8, 4, 5, 3, 4, 7, 7, 0, 6, 1, 3, 9, 8, 1, 3, 7, 4, 1, 1, 2, 5, 0, 7, 3, 8, 9, 4, 3, 4, 8, 9, 4, 6, 3, 2, 0, 1, 2, 2, 5, 0, 2, 1, 3, 4, 0, 2, 1, 3, 5, 9, 4, 3, 4, 0, 9, 0, 9, 1, 7, 9, 1, 3, 0, 3, 9, 1, 6, 8, 1, 7, 8, 6, 8, 4, 9, 0, 4, 6, 5, 4, 6, 2, 6, 6, 1, 0, 8, 8, 9, 7, 1, 8, 2, 9, 6, 4, 0, 4, 1, 6, 2, 4, 4, 9, 3, 9, 6, 3, 3, 7, 1, 6, 7, 6, 1, 4, 6, 3, 5, 6, 8, 8, 7, 0, 0, 8, 5, 2, 5, 5, 5, 7, 5, 5, 1, 4, 5, 3, 3, 6, 0, 7, 9, 7, 2, 1, 2, 5, 7, 2, 4, 1, 6, 6, 8, 7, 0, 3, 4, 1, 3, 8, 6, 9, 5, 0, 2, 2, 7, 5, 1, 8, 0, 5, 6, 9, 9, 9, 0, 0, 0, 0, 3, 2, 2, 8, 6, 2, 5, 7, 6, 7, 2, 0, 7, 8, 4, 1, 1, 8, 7, 8, 2, 3, 7, 1, 0, 7, 0, 0, 3, 8, 4, 2, 2, 3, 5, 9, 8, 4, 3, 4, 9, 7, 7, 0, 7, 6, 1, 7, 3, 4, 9, 0, 5, 8, 8, 8, 9, 2, 7, 0, 9, 6, 1, 3, 7, 0, 3, 0, 4, 0, 1, 5, 2, 9, 7, 6, 2, 6, 1, 9, 3, 3, 7, 7, 0, 5, 9, 0, 6, 9, 3, 8, 3, 0, 5, 6, 3, 1, 7, 5, 4, 6, 0, 8, 4, 7, 5, 6, 3, 1, 7, 6, 2, 3, 0, 7, 7, 9, 7, 1, 9, 5, 1, 6, 9, 1, 9, 6, 6, 0, 1, 4, 9, 9, 7, 1, 8, 5, 0, 9, 5, 5, 5, 4, 4, 4, 6, 7, 2, 6, 1, 5, 7, 4, 1, 9, 4, 9, 9, 4, 1, 4, 7, 5, 6, 1, 7, 9, 3, 2, 7, 2, 3, 3, 2, 7, 3, 9, 0, 4, 4, 7, 3, 7, 6, 6, 0, 1, 7, 4, 6, 3, 9, 8, 6, 0, 4, 5, 8, 5, 3, 4, 7, 6, 5, 5, 6, 6, 5, 4, 4, 3, 2, 2, 9, 5, 9, 1, 8, 4, 4, 0, 9, 5, 4, 5, 2, 6, 3, 5, 9, 1, 3, 5, 7, 9, 2, 3, 1, 0, 1, 1, 9, 7, 0, 1, 1, 7, 6, 4, 1, 5, 2, 2, 9, 1, 6, 7, 8, 1, 1, 3, 8, 0, 8, 6, 6, 1, 6, 1, 3, 7, 9, 9, 1, 0, 4, 1, 1, 2, 9, 6, 5, 3, 1, 7, 1, 2, 1, 7, 0, 0, 1, 6, 9, 9, 9, 1, 4, 4, 2, 0, 8, 3, 8, 0, 7, 5, 3, 3, 5, 8, 6, 5, 5, 7, 8, 1, 7, 0, 2, 9, 4, 3, 3, 9, 9, 7, 7, 6, 4, 0, 9, 6, 9, 7, 6, 8, 4, 7, 3, 6, 9, 7, 0, 9, 3, 7, 9, 7, 1, 9, 1, 3, 8, 7, 8, 2, 7, 9, 1, 2, 7, 6, 3, 7, 9, 1, 2, 9, 6, 0, 9, 6, 0, 6, 5, 3, 0, 1, 4, 1, 6, 5, 9, 2, 7, 0, 1, 4, 7, 1, 4, 2, 1, 3, 9, 4, 6, 4, 5, 8, 7, 6, 1, 2, 1, 2, 8, 8, 6, 5, 6, 3, 1, 8, 0, 0, 0, 0, 7, 3, 2, 0, 1, 7, 3, 8, 3, 2, 9, 3, 3, 1, 6, 2, 1, 5, 5, 1, 9, 4, 3, 4, 6, 7, 6, 9, 0, 7, 1, 4, 3, 5, 0, 8, 5, 4, 2, 0, 9, 9, 6, 7, 4, 7, 8, 1, 5, 7, 7, 1, 8, 4, 9, 0, 0, 1, 5, 9, 4, 1, 1, 0, 2, 6, 8, 8, 9, 7, 6, 9, 6, 2, 4, 7, 9, 3, 6, 5, 4, 3, 2, 4, 3, 2, 9, 8, 6, 7, 7, 9, 4, 5, 3, 4, 1, 6, 0, 4, 0, 1, 7, 1, 7, 7, 4, 2, 8, 3, 2, 9, 1, 0, 9, 8, 9, 7, 7, 5, 7, 0, 1, 8, 7, 7, 9, 1, 9, 4, 4, 4, 7, 6, 9, 4, 3, 3, 9, 2, 7, 0, 2, 7, 8, 5, 3, 4, 0, 7, 2, 8, 5, 4, 5, 1, 5, 1, 0, 5, 7, 0, 2, 6, 4, 7, 7, 2, 3, 2, 0, 1, 4, 8, 0, 8, 9, 0, 0, 3, 9, 9, 7, 2, 8, 2, 2, 5, 7, 7, 3, 7, 7, 6, 6, 5, 2, 8, 4, 8, 5, 8, 6, 4, 3, 0, 2, 1, 0, 3, 1, 0, 9, 1, 8, 8, 9, 7, 5, 9, 4, 7, 5, 1, 5, 9, 7, 9, 0, 8, 7, 1, 4, 8, 6, 8, 9, 6, 6, 0, 5, 3, 2, 6, 5, 4, 8, 9, 4, 8, 7, 2, 1, 5, 5, 6, 2, 4, 9, 5, 7, 9, 4, 5]\n",
      "[4 9 2 ... 9 4 5]\n"
     ]
    }
   ],
   "source": [
    "outputs = model.predict(X_test)\n",
    "new_output = []\n",
    "for i in range(outputs.shape[0]):\n",
    "    ind = 0\n",
    "    maxval = outputs[i][0]\n",
    "    for j in range(10):\n",
    "        if (maxval < outputs[i][j]):\n",
    "            maxval = outputs[i][j]\n",
    "            ind = j\n",
    "    new_output.append(ind)\n",
    "print(new_output)\n",
    "classifier = [0,1,2,3,4,5,6,7,8,9]\n",
    "#predicted_index = np.argmax(outputs)\n",
    "#print(predicted_index)\n",
    "print(Y_test)"
   ]
  },
  {
   "cell_type": "code",
   "execution_count": null,
   "id": "0fc08da0-4274-4557-897d-77f5c5a8300f",
   "metadata": {},
   "outputs": [],
   "source": []
  }
 ],
 "metadata": {
  "kernelspec": {
   "display_name": "Python 3 (ipykernel)",
   "language": "python",
   "name": "python3"
  },
  "language_info": {
   "codemirror_mode": {
    "name": "ipython",
    "version": 3
   },
   "file_extension": ".py",
   "mimetype": "text/x-python",
   "name": "python",
   "nbconvert_exporter": "python",
   "pygments_lexer": "ipython3",
   "version": "3.12.6"
  }
 },
 "nbformat": 4,
 "nbformat_minor": 5
}
